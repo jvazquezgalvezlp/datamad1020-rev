{
 "cells": [
  {
   "cell_type": "markdown",
   "metadata": {},
   "source": [
    "#### Imprime en consola Hello World."
   ]
  },
  {
   "cell_type": "markdown",
   "metadata": {},
   "source": [
    "Your solution here:\n"
   ]
  },
  {
   "cell_type": "code",
   "execution_count": 9,
   "metadata": {},
   "outputs": [
    {
     "data": {
      "text/plain": [
       "'Hello World'"
      ]
     },
     "execution_count": 9,
     "metadata": {},
     "output_type": "execute_result"
    }
   ],
   "source": [
    "'Hello World'"
   ]
  },
  {
   "cell_type": "markdown",
   "metadata": {},
   "source": [
    "#### Crea un directorio nuevo llamado new_dir."
   ]
  },
  {
   "cell_type": "markdown",
   "metadata": {},
   "source": [
    "Your solution here:\n"
   ]
  },
  {
   "cell_type": "code",
   "execution_count": 5,
   "metadata": {},
   "outputs": [
    {
     "data": {
      "text/plain": [
       "\"'new_dir'\""
      ]
     },
     "execution_count": 5,
     "metadata": {},
     "output_type": "execute_result"
    }
   ],
   "source": [
    "mkdir\"new_dir\""
   ]
  },
  {
   "cell_type": "markdown",
   "metadata": {},
   "source": [
    "#### Elimina ese directorio."
   ]
  },
  {
   "cell_type": "markdown",
   "metadata": {},
   "source": [
    "Your solution here:\n"
   ]
  },
  {
   "cell_type": "code",
   "execution_count": null,
   "metadata": {},
   "outputs": [],
   "source": [
    "rmdir\"new_dir\""
   ]
  },
  {
   "cell_type": "code",
   "execution_count": null,
   "metadata": {},
   "outputs": [],
   "source": [
    "# Copia el archivo `sed.txt` dentro de la carpeta lorem a la carpeta lorem-copy. "
   ]
  },
  {
   "cell_type": "code",
   "execution_count": 10,
   "metadata": {},
   "outputs": [],
   "source": [
    "cp -i /Users/jaimevazquez/Desktop/ironhack/datamad1020-rev/module-1/lab-bash/lorem/sed.txt /Users/jaimevazquez/Desktop/ironhack/datamad1020-rev/module-1/lab-bash/lorem-copy "
   ]
  },
  {
   "cell_type": "code",
   "execution_count": null,
   "metadata": {},
   "outputs": [],
   "source": [
    "# Copia los otros dos archivos de la carpeta lorem a la carpeta lorem-copy en una sola línea mediante `;`. "
   ]
  },
  {
   "cell_type": "code",
   "execution_count": 11,
   "metadata": {},
   "outputs": [],
   "source": [
    "cp -i /Users/jaimevazquez/Desktop/ironhack/datamad1020-rev/module-1/lab-bash/lorem/at.txt /Users/jaimevazquez/Desktop/ironhack/datamad1020-rev/module-1/lab-bash/lorem-copy; cp -i /Users/jaimevazquez/Desktop/ironhack/datamad1020-rev/module-1/lab-bash/lorem/lorem.txt /Users/jaimevazquez/Desktop/ironhack/datamad1020-rev/module-1/lab-bash/lorem-copy"
   ]
  },
  {
   "cell_type": "code",
   "execution_count": null,
   "metadata": {},
   "outputs": [],
   "source": [
    "# Muestra el contenido del archivo `sed.txt` dentro de la carpeta lorem."
   ]
  },
  {
   "cell_type": "code",
   "execution_count": 12,
   "metadata": {},
   "outputs": [
    {
     "name": "stdout",
     "output_type": "stream",
     "text": [
      "Sed ut perspiciatis unde omnis iste natus error sit voluptatem accusantium doloremque laudantium, \r\n",
      "totam rem aperiam, eaque ipsa quae ab illo inventore veritatis et quasi architecto beatae vitae dicta sunt explicabo. \r\n",
      "Nemo enim ipsam voluptatem quia voluptas sit aspernatur aut odit aut fugit, \r\n",
      "sed quia consequuntur magni dolores eos qui ratione voluptatem sequi nesciunt. \r\n",
      "Neque porro quisquam est, qui dolorem ipsum quia dolor sit amet, consectetur, adipisci velit, \r\n",
      "sed quia non numquam eius modi tempora incidunt ut labore et dolore magnam aliquam quaerat voluptatem. \r\n",
      "Ut enim ad minima veniam, quis nostrum exercitationem ullam corporis suscipit laboriosam, \r\n",
      "nisi ut aliquid ex ea commodi consequatur? Quis autem vel eum iure reprehenderit qui in ea voluptate velit esse quam nihil molestiae consequatur, \r\n",
      "vel illum qui dolorem eum fugiat quo voluptas nulla pariatur?"
     ]
    }
   ],
   "source": [
    "cat\"/Users/jaimevazquez/Desktop/ironhack/datamad1020-rev/module-1/lab-bash/lorem/sed.txt\""
   ]
  },
  {
   "cell_type": "code",
   "execution_count": null,
   "metadata": {},
   "outputs": [],
   "source": [
    "# Muestra el contenido de los archivos `at.txt` y `lorem.txt` dentro de la carpeta lorem. "
   ]
  },
  {
   "cell_type": "code",
   "execution_count": 13,
   "metadata": {},
   "outputs": [
    {
     "name": "stdout",
     "output_type": "stream",
     "text": [
      "At vero eos et accusamus et iusto odio dignissimos ducimus qui blanditiis praesentium voluptatum \r\n",
      "deleniti atque corrupti quos dolores et quas molestias excepturi sint occaecati cupiditate non \r\n",
      "provident, similique sunt in culpa qui officia deserunt mollitia animi, id est laborum et dolorum fuga. \r\n",
      "Et harum quidem rerum facilis est et expedita distinctio. \r\n",
      "Nam libero tempore, cum soluta nobis est eligendi optio cumque nihil impedit quo minus id quod \r\n",
      "maxime placeat facere possimus, omnis voluptas assumenda est, omnis dolor repellendus. \r\n",
      "Temporibus autem quibusdam et aut officiis debitis aut rerum necessitatibus saepe eveniet \r\n",
      "ut et voluptates repudiandae sint et molestiae non recusandae. \r\n",
      "Itaque earum rerum hic tenetur a sapiente delectus, ut aut reiciendis voluptatibus maiores \r\n",
      "alias consequatur aut perferendis doloribus asperiores repellatzsh:1: no such file or directory: cat/Users/jaimevazquez/Desktop/ironhack/datamad1020-rev/module-1/lab-bash/lorem/lorem.txt\r\n"
     ]
    }
   ],
   "source": [
    "cat\"/Users/jaimevazquez/Desktop/ironhack/datamad1020-rev/module-1/lab-bash/lorem/at.txt\"; cat\"/Users/jaimevazquez/Desktop/ironhack/datamad1020-rev/module-1/lab-bash/lorem/lorem.txt\""
   ]
  },
  {
   "cell_type": "code",
   "execution_count": null,
   "metadata": {},
   "outputs": [],
   "source": [
    "# Visualiza las primeras 3 líneas del archivo `sed.txt` dentro de la carpeta lorem-copy "
   ]
  },
  {
   "cell_type": "code",
   "execution_count": 18,
   "metadata": {},
   "outputs": [
    {
     "name": "stdout",
     "output_type": "stream",
     "text": [
      "Sed ut perspiciatis unde omnis iste natus error sit voluptatem accusantium doloremque laudantium, \r\n",
      "totam rem aperiam, eaque ipsa quae ab illo inventore veritatis et quasi architecto beatae vitae dicta sunt explicabo. \r\n",
      "Nemo enim ipsam voluptatem quia voluptas sit aspernatur aut odit aut fugit, \r\n"
     ]
    }
   ],
   "source": [
    "cat\"/Users/jaimevazquez/Desktop/ironhack/datamad1020-rev/module-1/lab-bash/lorem-copy/sed.txt\"|head -n3"
   ]
  },
  {
   "cell_type": "code",
   "execution_count": null,
   "metadata": {},
   "outputs": [],
   "source": [
    "# Visualiza las ultimas 3 líneas del archivo `sed.txt` dentro de la carpeta lorem-copy "
   ]
  },
  {
   "cell_type": "code",
   "execution_count": 19,
   "metadata": {},
   "outputs": [
    {
     "name": "stdout",
     "output_type": "stream",
     "text": [
      "Ut enim ad minima veniam, quis nostrum exercitationem ullam corporis suscipit laboriosam, \r\n",
      "nisi ut aliquid ex ea commodi consequatur? Quis autem vel eum iure reprehenderit qui in ea voluptate velit esse quam nihil molestiae consequatur, \r\n",
      "vel illum qui dolorem eum fugiat quo voluptas nulla pariatur?"
     ]
    }
   ],
   "source": [
    "cat\"/Users/jaimevazquez/Desktop/ironhack/datamad1020-rev/module-1/lab-bash/lorem-copy/sed.txt\"|tail -n3"
   ]
  },
  {
   "cell_type": "code",
   "execution_count": null,
   "metadata": {},
   "outputs": [],
   "source": [
    "# Añade `Homo homini lupus.` al final de archivo `sed.txt` dentro de la carpeta lorem-copy. "
   ]
  },
  {
   "cell_type": "code",
   "execution_count": 30,
   "metadata": {},
   "outputs": [
    {
     "ename": "SyntaxError",
     "evalue": "invalid syntax (<ipython-input-30-2bf170557f92>, line 1)",
     "output_type": "error",
     "traceback": [
      "\u001b[0;36m  File \u001b[0;32m\"<ipython-input-30-2bf170557f92>\"\u001b[0;36m, line \u001b[0;32m1\u001b[0m\n\u001b[0;31m    echo \"Homo homini lupus.\" \"/Users/jaimevazquez/Desktop/ironhack/datamad1020-rev/module-1/lab-bash/lorem-copy/sed.txt\"\u001b[0m\n\u001b[0m         ^\u001b[0m\n\u001b[0;31mSyntaxError\u001b[0m\u001b[0;31m:\u001b[0m invalid syntax\n"
     ]
    }
   ],
   "source": [
    "echo \"Homo homini lupus.\" \"/Users/jaimevazquez/Desktop/ironhack/datamad1020-rev/module-1/lab-bash/lorem-copy/sed.txt\""
   ]
  },
  {
   "cell_type": "code",
   "execution_count": 22,
   "metadata": {},
   "outputs": [],
   "source": [
    "# Visualiza las últimas 3 líneas del archivo `sed.txt` dentro de la carpeta lorem-copy. Deberías ver ahora `Homo homini lupus.`. "
   ]
  },
  {
   "cell_type": "code",
   "execution_count": 32,
   "metadata": {},
   "outputs": [
    {
     "ename": "SyntaxError",
     "evalue": "invalid syntax (<ipython-input-32-47eeed3d48fc>, line 1)",
     "output_type": "error",
     "traceback": [
      "\u001b[0;36m  File \u001b[0;32m\"<ipython-input-32-47eeed3d48fc>\"\u001b[0;36m, line \u001b[0;32m1\u001b[0m\n\u001b[0;31m    head -n 3 /Users/jaimevazquez/Desktop/ironhack/datamad1020-rev/module-1/lab-bash/lorem-copy/sed.txt\u001b[0m\n\u001b[0m            ^\u001b[0m\n\u001b[0;31mSyntaxError\u001b[0m\u001b[0;31m:\u001b[0m invalid syntax\n"
     ]
    }
   ],
   "source": [
    "head -n 3 /Users/jaimevazquez/Desktop/ironhack/datamad1020-rev/module-1/lab-bash/lorem-copy/sed.txt"
   ]
  },
  {
   "cell_type": "code",
   "execution_count": null,
   "metadata": {},
   "outputs": [],
   "source": [
    "# Sustituye todas las apariciones de `et` por `ET` del archivo `at.txt` dentro de la carpeta lorem-copy. Deberás usar `sed`. "
   ]
  },
  {
   "cell_type": "code",
   "execution_count": 49,
   "metadata": {},
   "outputs": [
    {
     "ename": "SyntaxError",
     "evalue": "invalid syntax (<ipython-input-49-35f30ec5eb8a>, line 1)",
     "output_type": "error",
     "traceback": [
      "\u001b[0;36m  File \u001b[0;32m\"<ipython-input-49-35f30ec5eb8a>\"\u001b[0;36m, line \u001b[0;32m1\u001b[0m\n\u001b[0;31m    sed 's/et/ET/g' lorem-copy/at.txt\u001b[0m\n\u001b[0m        ^\u001b[0m\n\u001b[0;31mSyntaxError\u001b[0m\u001b[0;31m:\u001b[0m invalid syntax\n"
     ]
    }
   ],
   "source": [
    "sed 's/et/ET/g' lorem-copy/at.txt"
   ]
  },
  {
   "cell_type": "code",
   "execution_count": 36,
   "metadata": {},
   "outputs": [],
   "source": [
    "# Encuentra al usuario activo en el sistema."
   ]
  },
  {
   "cell_type": "code",
   "execution_count": 76,
   "metadata": {},
   "outputs": [
    {
     "name": "stdout",
     "output_type": "stream",
     "text": [
      "Interactive namespace is empty.\n"
     ]
    }
   ],
   "source": [
    "who "
   ]
  },
  {
   "cell_type": "code",
   "execution_count": 60,
   "metadata": {},
   "outputs": [],
   "source": [
    "# Encuentra dónde estás en tu sistema de ficheros."
   ]
  },
  {
   "cell_type": "code",
   "execution_count": 56,
   "metadata": {},
   "outputs": [
    {
     "data": {
      "text/plain": [
       "'/Users/jaimevazquez/Desktop/ironhack/datamad1020-rev/module-1/lab-bash'"
      ]
     },
     "execution_count": 56,
     "metadata": {},
     "output_type": "execute_result"
    }
   ],
   "source": [
    "pwd"
   ]
  },
  {
   "cell_type": "code",
   "execution_count": null,
   "metadata": {},
   "outputs": [],
   "source": [
    "# Lista los archivos que terminan por `.txt` en la carpeta lorem."
   ]
  },
  {
   "cell_type": "code",
   "execution_count": 61,
   "metadata": {},
   "outputs": [
    {
     "name": "stdout",
     "output_type": "stream",
     "text": [
      "ls: .txt: No such file or directory\r\n",
      "README.md        solutions.ipynb\r\n",
      "\r\n",
      "exercices:\r\n",
      "\r\n",
      "inputs:\r\n",
      "\r\n",
      "lorem:\r\n",
      "at.txt     lorem.txt  sed.txt\r\n",
      "\r\n",
      "lorem-copy:\r\n",
      "at.txt     lorem.txt  sed.txt\r\n",
      "\r\n",
      "outputs:\r\n"
     ]
    }
   ],
   "source": [
    "ls * \".txt\""
   ]
  },
  {
   "cell_type": "code",
   "execution_count": 67,
   "metadata": {},
   "outputs": [],
   "source": [
    "# Cuenta el número de líneas que tiene el archivo `sed.txt` dentro de la carpeta lorem. "
   ]
  },
  {
   "cell_type": "code",
   "execution_count": 70,
   "metadata": {},
   "outputs": [
    {
     "name": "stdout",
     "output_type": "stream",
     "text": [
      "       8\r\n"
     ]
    }
   ],
   "source": [
    "cat /Users/jaimevazquez/Desktop/ironhack/datamad1020-rev/module-1/lab-bash/lorem/sed.txt | wc -l"
   ]
  },
  {
   "cell_type": "code",
   "execution_count": null,
   "metadata": {},
   "outputs": [],
   "source": [
    "# Cuenta el número de **archivos** que empiezan por `lorem` que están en este directorio y en directorios internos.."
   ]
  },
  {
   "cell_type": "code",
   "execution_count": 80,
   "metadata": {},
   "outputs": [
    {
     "ename": "SyntaxError",
     "evalue": "invalid syntax (<ipython-input-80-463735c79e51>, line 1)",
     "output_type": "error",
     "traceback": [
      "\u001b[0;36m  File \u001b[0;32m\"<ipython-input-80-463735c79e51>\"\u001b[0;36m, line \u001b[0;32m1\u001b[0m\n\u001b[0;31m    find .'lorem.*'| wc -l\u001b[0m\n\u001b[0m          ^\u001b[0m\n\u001b[0;31mSyntaxError\u001b[0m\u001b[0;31m:\u001b[0m invalid syntax\n"
     ]
    }
   ],
   "source": [
    "find .'lorem.*'| wc -l"
   ]
  },
  {
   "cell_type": "code",
   "execution_count": null,
   "metadata": {},
   "outputs": [],
   "source": [
    "# Encuentra todas las apariciones de `et` en `at.txt` dentro de la carpeta lorem."
   ]
  },
  {
   "cell_type": "code",
   "execution_count": null,
   "metadata": {},
   "outputs": [],
   "source": []
  },
  {
   "cell_type": "code",
   "execution_count": null,
   "metadata": {},
   "outputs": [],
   "source": [
    "# Cuenta el número de apariciones del string `et` en `at.txt` dentro de la carpeta lorem."
   ]
  },
  {
   "cell_type": "code",
   "execution_count": null,
   "metadata": {},
   "outputs": [],
   "source": []
  },
  {
   "cell_type": "code",
   "execution_count": null,
   "metadata": {},
   "outputs": [],
   "source": [
    "#  Cuenta el número de apariciones del string `et` en todos los archivos del directorio lorem-copy."
   ]
  },
  {
   "cell_type": "code",
   "execution_count": null,
   "metadata": {},
   "outputs": [],
   "source": []
  }
 ],
 "metadata": {
  "kernelspec": {
   "display_name": "Python 3",
   "language": "python",
   "name": "python3"
  },
  "language_info": {
   "codemirror_mode": {
    "name": "ipython",
    "version": 3
   },
   "file_extension": ".py",
   "mimetype": "text/x-python",
   "name": "python",
   "nbconvert_exporter": "python",
   "pygments_lexer": "ipython3",
   "version": "3.8.6"
  }
 },
 "nbformat": 4,
 "nbformat_minor": 4
}
